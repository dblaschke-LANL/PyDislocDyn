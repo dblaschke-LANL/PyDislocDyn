{
 "cells": [
  {
   "cell_type": "markdown",
   "id": "a7bd8338-c983-4c09-a6d1-1fb8c20832a6",
   "metadata": {},
   "source": [
    "## Some Examples\n",
    "This jupyter notebook presents a few simple examples of how to use the code PyDislocDyn as a module;\n",
    "Please look at the manual for a more in-depth documentation, as well as the doc-strings\n",
    "of the (sub-)module(s), classes, and functions for those options not covered by the manual"
   ]
  },
  {
   "cell_type": "code",
   "execution_count": null,
   "id": "f3c831c6-cd48-4f72-bf15-32d084209efa",
   "metadata": {},
   "outputs": [],
   "source": [
    "import pydislocdyn\n",
    "pydislocdyn.writeinputfile(\"Cu\",fname=\"Cu.in\") # default: fname equals 1st argument\n",
    "# pydislocdyn.writeallinputfiles() # generates many inputfiles from pydislocdyn.metal_data (calls writeinputfile() for each one)"
   ]
  },
  {
   "cell_type": "code",
   "execution_count": null,
   "id": "e2cc3a59-2191-4f1d-82c5-036efeb7852c",
   "metadata": {},
   "outputs": [],
   "source": [
    "Cu = pydislocdyn.readinputfile(\"Cu.in\") # optional: theta=array of character angles (default is [0,pi/2])\n",
    "Cu"
   ]
  },
  {
   "cell_type": "code",
   "execution_count": null,
   "id": "b5165c40-4279-41bb-aae6-2f5df97d2ca7",
   "metadata": {},
   "outputs": [],
   "source": [
    "Cu.theta"
   ]
  },
  {
   "cell_type": "markdown",
   "id": "156a33f4-e7d4-4141-96f0-fce9d88c3f20",
   "metadata": {},
   "source": [
    "Compute isotropic averages of single crystal elastic constants (assuming no texturing):"
   ]
  },
  {
   "cell_type": "code",
   "execution_count": null,
   "id": "227caade-944d-4a1b-985a-745ba90a7459",
   "metadata": {},
   "outputs": [],
   "source": [
    "Cu.compute_Lame(include_TOEC=True,scheme='hill') ## default: scheme='auto' uses Kroeners average for SOEC"
   ]
  },
  {
   "cell_type": "markdown",
   "id": "07bbceea-4dfd-4203-9b09-2a3ccfe78584",
   "metadata": {},
   "source": [
    "Remark: for an isotropic solid at 2nd order, only 2 elastic constants are independent.\n",
    "this function determines all other commonly used ones from any 2:"
   ]
  },
  {
   "cell_type": "code",
   "execution_count": null,
   "id": "9c935dea-bc45-40ac-bc79-cde45796861e",
   "metadata": {},
   "outputs": [],
   "source": [
    "pydislocdyn.convert_SOECiso(bulk=130,poisson=0.3)"
   ]
  },
  {
   "cell_type": "markdown",
   "id": "522e4c24-964c-49ba-ace4-bea044d0ea09",
   "metadata": {},
   "source": [
    "Compare measures of anisotropy, i.e. Zener's ratio (for cubic crystals) and the universal log-Euclidean anisotropy index"
   ]
  },
  {
   "cell_type": "code",
   "execution_count": null,
   "id": "d96510bd-5459-4987-b428-4dd018053f29",
   "metadata": {},
   "outputs": [],
   "source": [
    "print(f\"{Cu.Zener}, {Cu.anisotropy_index()}\")"
   ]
  },
  {
   "cell_type": "markdown",
   "id": "dae2e581-6c24-4711-bbfe-4c0e0e0147e3",
   "metadata": {},
   "source": [
    "Determine the limiting velocities in m/s of all dislocation characters initialized in the class-instance:"
   ]
  },
  {
   "cell_type": "code",
   "execution_count": null,
   "id": "9d4d8b8b-7135-4709-b9e1-aa52a12ce6a9",
   "metadata": {},
   "outputs": [],
   "source": [
    "Cu.computevcrit(return_all=True) ## default: return_all=False; only returns branch 0 as numpy array"
   ]
  },
  {
   "cell_type": "markdown",
   "id": "ea49b33c-11bc-4e67-9dea-c728aa39cbea",
   "metadata": {},
   "source": [
    "Regardless of `return_all` keyword, results are stored in the `.vcrit_all` attribute:"
   ]
  },
  {
   "cell_type": "code",
   "execution_count": null,
   "id": "0866c9e3-4b44-4741-a4af-420bf35a539c",
   "metadata": {},
   "outputs": [],
   "source": [
    "Cu.vcrit_all[0],Cu.vcrit_all[1:]"
   ]
  },
  {
   "cell_type": "code",
   "execution_count": null,
   "id": "5e9c6308-cc4c-4a86-9454-e6ae25da6dcc",
   "metadata": {},
   "outputs": [],
   "source": [
    "Cu.findvcrit_smallest() ## find the lowest limiting velocity in m/s for all dislocation character angles of a given slip system\n",
    "print(f\"{Cu.vcrit_smallest}, {Cu.vcrit_edge}, {Cu.vcrit_screw}\")"
   ]
  },
  {
   "cell_type": "markdown",
   "id": "a60fb852-5e48-4c53-8752-99ae3fe4688f",
   "metadata": {},
   "source": [
    "Compute dislocation drag from phonon wind for gliding velocities beta and character angles theta:"
   ]
  },
  {
   "cell_type": "code",
   "execution_count": null,
   "id": "f488b0cf-3525-47cf-8032-dc2958d343a2",
   "metadata": {},
   "outputs": [],
   "source": [
    "pydislocdyn.phonondrag(Cu,beta=[0.01,0.2,0.5,0.69]) ## beta = v/Cu.ct; units: [B]=mPa s"
   ]
  },
  {
   "cell_type": "markdown",
   "id": "7636ac7d-5f2c-4ee9-a67d-edbbe5b845f7",
   "metadata": {},
   "source": [
    "Now let's visualize the displacement gradient field of one component of a dislocation gliding at velocity beta (1st argument)\n",
    "defaults: `character='screw',component=[2,0],showplt=False,savefige=True`\n",
    "Note: if LaTeX is found and we're not running in a jupyter notebook (or similar environment loading 'ipykernel'), \n",
    "matplotlib's pgf backend is used with LaTeX to produce nicer pdf figures"
   ]
  },
  {
   "cell_type": "code",
   "execution_count": null,
   "id": "cb954b13-a563-4213-a03a-86315701b630",
   "metadata": {},
   "outputs": [],
   "source": [
    "Cu.plotdisloc(0.6,character='edge',component=[1,0],showplt=True,savefig=False)"
   ]
  },
  {
   "cell_type": "code",
   "execution_count": null,
   "id": "a8728eba-e616-4298-8fab-8879e1949f48",
   "metadata": {},
   "outputs": [],
   "source": [
    "Cu.plotdisloc(0.8,a=1e14,showplt=True,savefig=False) ## accelerating screw disloc. at time where v(t)=0.8*Cu.ct=1857m/s"
   ]
  },
  {
   "cell_type": "markdown",
   "id": "23dd3b24-6358-4d6f-b00d-5c08df06b786",
   "metadata": {},
   "source": [
    "Another dynamic solution (see [*J. Mech. Phys. Solids* **152** (2021) 104448, sec. 2.3](https://dx.doi.org/10.1016/j.jmps.2021.104448), [arxiv.org/abs/2009.00167](https://arxiv.org/abs/2009.00167)),\n",
    "where we assume $l(t) = \\dot{a}*t^3/6$ (i.e. acceleration starts at 0 and increases at rate $\\dot{a}$ from $t>0$)"
   ]
  },
  {
   "cell_type": "code",
   "execution_count": null,
   "id": "772a7fc7-a7ed-496a-b057-dd325de66569",
   "metadata": {},
   "outputs": [],
   "source": [
    "import numpy as np\n",
    "adot = 6.2e25 ## time-derivative of acceleration, acc is initially zero at time t=0\n",
    "vel = 0.8 ## target velocity (i.e. plot a snapshot at time t(vel) below)\n",
    "def eta(x):\n",
    "    return np.sign(x)*np.cbrt(6*abs(x)/adot)\n",
    "def etapr(x):\n",
    "    return eta(x)/(3*x)\n",
    "time = np.sqrt(2*vel*Cu.ct/adot) ## vel=adot*t**2/2, time=t(vel)\n",
    "distance = adot*time**3/6 ## distance covered by the core at time 'time'\n",
    "acc = adot*time ## current acceleration at time 'time'\n",
    "Cu.plotdisloc(vel,a=None,eta_kw=eta,etapr_kw=etapr,t=time,shift=distance,showplt=True,savefig=False)"
   ]
  },
  {
   "cell_type": "code",
   "execution_count": null,
   "id": "d60a1b47-af1f-4a3b-83ed-de00f775b3c6",
   "metadata": {},
   "outputs": [],
   "source": [
    "Cu.findRayleigh() # for character angles Cu.theta"
   ]
  },
  {
   "cell_type": "markdown",
   "id": "d25e829f-643e-4408-8572-ff7f4feae77e",
   "metadata": {},
   "source": [
    "Find \"radiation-free\" transonic gliding velocities; note these are specific to \"perfect\" dislocations"
   ]
  },
  {
   "cell_type": "code",
   "execution_count": null,
   "id": "4b95a32a-703b-450b-be51-d86d48f03351",
   "metadata": {},
   "outputs": [],
   "source": [
    "Cu.find_vRF() # (no radiation free velocities for this metal)"
   ]
  },
  {
   "cell_type": "code",
   "execution_count": null,
   "id": "440272bf-0389-4769-b593-f69e7f39c2cb",
   "metadata": {},
   "outputs": [],
   "source": [
    "Cu.computesound([1,1,1]) # find the sound speeds for a given direction of propagation in the crystal"
   ]
  },
  {
   "cell_type": "markdown",
   "id": "9240844e-11d4-4465-9a48-fb8daa4e871d",
   "metadata": {},
   "source": [
    "Find the lowest (`which='l'`=default) and highest (`which='h'`) sound speed, as well as the highest (quasi-)shear wave speed (`which='hs'`),\n",
    "in the crystal."
   ]
  },
  {
   "cell_type": "code",
   "execution_count": null,
   "id": "b2fde2b5-397d-4e73-9041-b3c9f6960c27",
   "metadata": {},
   "outputs": [],
   "source": [
    "Cu.find_wavespeed(accuracy=0.01),Cu.find_wavespeed(which='hs',accuracy=0.01), Cu.find_wavespeed(which='h',accuracy=0.01)"
   ]
  },
  {
   "cell_type": "markdown",
   "id": "a3d6e37d-05e3-4f96-bd3d-ead57ab9996f",
   "metadata": {},
   "source": [
    "For line tension calcs, need to initialize with many character angles:"
   ]
  },
  {
   "cell_type": "code",
   "execution_count": null,
   "id": "d87a0a6f-ca5d-4732-b7da-66da1202d7fa",
   "metadata": {},
   "outputs": [],
   "source": [
    "Cu_mixed = pydislocdyn.readinputfile(\"Cu.in\",Ntheta=250,include_extra=True)\n",
    "import numpy as np\n",
    "print(len(Cu_mixed.theta),Cu_mixed.theta[[0,1,-2,-1]]/np.pi) ## kw include_extra adds two character angles at the edges"
   ]
  },
  {
   "cell_type": "code",
   "execution_count": null,
   "id": "8f5ef013-dd8c-4824-a2e1-d03ee2f60617",
   "metadata": {},
   "outputs": [],
   "source": [
    "Cu_mixed.computeuij(0.6) # v=0.6*ct\n",
    "Cu_mixed.computeEtot()\n",
    "Cu_mixed.computeLT()\n",
    "Cu_mixed.LT[0],Cu_mixed.LT[-1],len(Cu_mixed.LT) ## linetension needs two derivatives wrt theta, these are the screw/edge results:"
   ]
  },
  {
   "cell_type": "markdown",
   "id": "defb6748-8edc-403d-9ae6-01c0c3bdd16d",
   "metadata": {},
   "source": [
    "Some of the computations above also work for symbolic expressions, for example\n",
    "find Voigt and Reuss averages for general crystal at the example of hcp:"
   ]
  },
  {
   "cell_type": "code",
   "execution_count": null,
   "id": "7f18deeb-8d39-4386-96e3-f0730e82d1a8",
   "metadata": {},
   "outputs": [],
   "source": [
    "import sympy as sp\n",
    "hcpcryst = pydislocdyn.metal_props(sym='hcp')\n",
    "# hcpcryst.c11,hcpcryst.c12,hcpcryst.c13,hcpcryst.c33,hcpcryst.c44=sp.symbols('c11,c12,c13,c33,c44',real=True)\n",
    "# hcpcryst.init_C2()\n",
    "## define symbols for elastic constants manually (above) or use pre-configured set (below)\n",
    "hcpcryst.init_symbols()\n",
    "hcpcryst.C2"
   ]
  },
  {
   "cell_type": "code",
   "execution_count": null,
   "id": "829e1f14-fa5f-4663-8ab3-8416703fa032",
   "metadata": {},
   "outputs": [],
   "source": [
    "hcpcryst.voigt = hcpcryst.compute_Lame(scheme='voigt')\n",
    "hcpcryst.voigt"
   ]
  },
  {
   "cell_type": "code",
   "execution_count": null,
   "id": "53df45e5-8025-49aa-b07f-b47d33c43942",
   "metadata": {},
   "outputs": [],
   "source": [
    "# hcpcryst.rho = sp.symbols('ρ',positive=True) # already set by .init_symbols() method above\n",
    "hcpcryst.init_sound()\n",
    "sp.simplify(hcpcryst.ct/hcpcryst.cl)"
   ]
  },
  {
   "cell_type": "code",
   "execution_count": null,
   "id": "cbea0304-50bd-42fb-b4d9-13f074e4d506",
   "metadata": {},
   "outputs": [],
   "source": [
    "import pandas as pd\n",
    "pd.set_option('display.max_colwidth', 70) ## show at least the bulk modulus without truncating \n",
    "hcpcryst.reuss = hcpcryst.compute_Lame(scheme='reuss')\n",
    "hcpcryst.reuss"
   ]
  },
  {
   "cell_type": "code",
   "execution_count": null,
   "id": "d7e20835-9734-43b9-8f81-3fef3da2104f",
   "metadata": {},
   "outputs": [],
   "source": [
    "sp.Matrix(hcpcryst.computesound([1,1,0]))"
   ]
  },
  {
   "cell_type": "code",
   "execution_count": null,
   "id": "a8142d21-c164-4a66-a8c8-a4cd628a13ac",
   "metadata": {},
   "outputs": [],
   "source": [
    "sp.simplify(hcpcryst.anisotropy_index())"
   ]
  },
  {
   "cell_type": "markdown",
   "id": "b27ce144-0688-4fbe-9cb4-839e0ac4ff9e",
   "metadata": {},
   "source": [
    "Limiting velocities of dislocations are implemented for symbolic computation only for simple cases, e.g.:"
   ]
  },
  {
   "cell_type": "code",
   "execution_count": null,
   "id": "2f3758c1-9a7c-483e-9945-928e5c112754",
   "metadata": {},
   "outputs": [],
   "source": [
    "fcc = pydislocdyn.Dislocation(b=[1,1,0],n0=[-1,1,-1],sym='fcc',lat_a=sp.symbols('a'),Miller=True)\n",
    "## setting lat_a and Miller not strictly necessary, but ensures symbolic computations throughout (avoiding floats)\n",
    "fcc.init_symbols()\n",
    "vcrit_fcc = fcc.computevcrit()"
   ]
  },
  {
   "cell_type": "code",
   "execution_count": null,
   "id": "706e5222-9af0-4394-8777-8dd78d76a50c",
   "metadata": {},
   "outputs": [],
   "source": [
    "vcrit_fcc['screw']"
   ]
  },
  {
   "cell_type": "code",
   "execution_count": null,
   "id": "0516aca3-d4a2-4983-bc2a-6665bab5f093",
   "metadata": {},
   "outputs": [],
   "source": [
    "vcrit_fcc['edge'] ## the 3 branches are not ordered since we can't know which one is smallest"
   ]
  },
  {
   "cell_type": "code",
   "execution_count": null,
   "id": "dd323c8d-27b3-4ae3-8d2d-bd91cbb6960f",
   "metadata": {},
   "outputs": [],
   "source": [
    "poly=pydislocdyn.strain_poly()\n",
    "poly"
   ]
  },
  {
   "cell_type": "code",
   "execution_count": null,
   "id": "432eebbb-c4c4-427d-a452-44a33a888f53",
   "metadata": {},
   "outputs": [],
   "source": [
    "poly.generate_poly([poly.y,0,0,0,0,0],preserve_volume=False,P=0)"
   ]
  },
  {
   "cell_type": "code",
   "execution_count": null,
   "id": "c0b44e3f-5078-4d23-8479-302d9f475e59",
   "metadata": {},
   "outputs": [],
   "source": [
    "poly.alpha, pydislocdyn.Voigt(poly.strain)"
   ]
  },
  {
   "cell_type": "code",
   "execution_count": null,
   "id": "6885c5d4-ccd9-4cd1-b19d-746236a17386",
   "metadata": {},
   "outputs": [],
   "source": []
  }
 ],
 "metadata": {
  "kernelspec": {
   "display_name": "Python 3 (ipykernel)",
   "language": "python",
   "name": "python3"
  },
  "language_info": {
   "codemirror_mode": {
    "name": "ipython",
    "version": 3
   },
   "file_extension": ".py",
   "mimetype": "text/x-python",
   "name": "python",
   "nbconvert_exporter": "python",
   "pygments_lexer": "ipython3",
   "version": "3.13.5"
  }
 },
 "nbformat": 4,
 "nbformat_minor": 5
}
