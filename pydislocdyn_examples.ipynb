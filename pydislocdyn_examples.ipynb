{
 "cells": [
  {
   "cell_type": "code",
   "execution_count": null,
   "id": "977fecd2-2956-4ea8-81d2-b6102985ff57",
   "metadata": {},
   "outputs": [],
   "source": [
    "# This jupyter notebook presents a few simple examples of how to use the code PyDislocDyn as a module;\n",
    "# Please look at the manual for a more in-depth documentation, as well as the doc-strings\n",
    "# of the (sub-)module(s), classes, and functions for those options not covered by the manual\n",
    "import pydislocdyn\n",
    "pydislocdyn.writeinputfile(\"Cu\",fname=\"Cu.in\") # default: fname equals 1st argument\n",
    "# pydislocdyn.writeallinputfiles() # generates many inputfiles from pydislocdyn.metal_data (calls writeinputfile() for each one)"
   ]
  },
  {
   "cell_type": "code",
   "execution_count": null,
   "id": "e2cc3a59-2191-4f1d-82c5-036efeb7852c",
   "metadata": {},
   "outputs": [],
   "source": [
    "Cu = pydislocdyn.readinputfile(\"Cu.in\") # optional: theta=array of character angles (default is [0,pi/2])\n",
    "Cu"
   ]
  },
  {
   "cell_type": "code",
   "execution_count": null,
   "id": "b5165c40-4279-41bb-aae6-2f5df97d2ca7",
   "metadata": {},
   "outputs": [],
   "source": [
    "Cu.theta"
   ]
  },
  {
   "cell_type": "code",
   "execution_count": null,
   "id": "952fce12-d6fe-4fa6-97b3-77780390ed34",
   "metadata": {},
   "outputs": [],
   "source": [
    "# compute isotropic averages of single crystal elastic constants (assuming no texturing):\n",
    "Cu.compute_Lame(include_TOEC=True,scheme='hill') ## default: scheme='auto' uses Kroeners average for SOEC"
   ]
  },
  {
   "cell_type": "code",
   "execution_count": null,
   "id": "f913c74e-8c2f-43bd-8e2e-3d8b85f9b50e",
   "metadata": {},
   "outputs": [],
   "source": [
    "# remark: for an isotropic solid at 2nd order, only 2 elastic constants are independent.\n",
    "# this function determines all other commonly used ones from any 2:\n",
    "pydislocdyn.convert_SOECiso(bulk=130,poisson=0.3)"
   ]
  },
  {
   "cell_type": "code",
   "execution_count": null,
   "id": "0d88aff5-4930-4183-9557-97a8f31d2cdd",
   "metadata": {},
   "outputs": [],
   "source": [
    "# compare measures of anisotropy, i.e. Zener's ratio (for cubic crystals) and the universal log-Euclidean anisotropy index\n",
    "print(f\"{Cu.Zener}, {Cu.anisotropy_index()}\")"
   ]
  },
  {
   "cell_type": "code",
   "execution_count": null,
   "id": "f847fdeb-b00b-4c2d-9588-8bc9c1b6a5b6",
   "metadata": {},
   "outputs": [],
   "source": [
    "# determine the limiting velocities in m/s of all dislocation characters initialized in the class-instance:\n",
    "Cu.computevcrit(return_all=True) ## default: return_all=False; only returns branch 0 as numpy array"
   ]
  },
  {
   "cell_type": "code",
   "execution_count": null,
   "id": "d924b343-f76e-4d77-a00f-1099226d2198",
   "metadata": {},
   "outputs": [],
   "source": [
    "# regardless of 'return_all' keyword, results are stored in the .vcrit_all attribute:\n",
    "Cu.vcrit_all[0],Cu.vcrit_all[1:]"
   ]
  },
  {
   "cell_type": "code",
   "execution_count": null,
   "id": "5e9c6308-cc4c-4a86-9454-e6ae25da6dcc",
   "metadata": {},
   "outputs": [],
   "source": [
    "Cu.findvcrit_smallest() ## find the lowest limiting velocity in m/s for all dislocation character angles of a given slip system\n",
    "print(f\"{Cu.vcrit_smallest}, {Cu.vcrit_edge}, {Cu.vcrit_screw}\")"
   ]
  },
  {
   "cell_type": "code",
   "execution_count": null,
   "id": "f612c770-726c-4c29-bb81-ee5e268ab394",
   "metadata": {},
   "outputs": [],
   "source": [
    "# compute dislocation drag from phonon wind for gliding velocities beta and character angles theta:\n",
    "pydislocdyn.phonondrag(Cu,beta=[0.01,0.2,0.5,0.69]) ## beta = v/Cu.ct; units: [B]=mPa s"
   ]
  },
  {
   "cell_type": "code",
   "execution_count": null,
   "id": "07421a35-4530-46b1-8105-492d6941dd41",
   "metadata": {},
   "outputs": [],
   "source": [
    "# now let's visualize the displacement gradient field of one component of a dislocation gliding at velocity beta (1st argument)\n",
    "# defaults: character='screw',component=[2,0],showplt=False,savefige=True\n",
    "# Note: if LaTeX is found and we're not running in a jupyter notebook (or similar environment loading 'ipykernel'), \n",
    "# matplotlib's pgf backend is used with LaTeX to produce nicer pdf figures\n",
    "Cu.plotdisloc(0.6,character='edge',component=[1,0],showplt=True,savefig=False)"
   ]
  },
  {
   "cell_type": "code",
   "execution_count": null,
   "id": "a8728eba-e616-4298-8fab-8879e1949f48",
   "metadata": {},
   "outputs": [],
   "source": [
    "Cu.plotdisloc(0.8,a=1e14,showplt=True,savefig=False) ## accelerating screw disloc. at time where v(t)=0.8*Cu.ct=1857m/s"
   ]
  },
  {
   "cell_type": "code",
   "execution_count": null,
   "id": "d60a1b47-af1f-4a3b-83ed-de00f775b3c6",
   "metadata": {},
   "outputs": [],
   "source": [
    "Cu.findRayleigh() # for character angles Cu.theta"
   ]
  },
  {
   "cell_type": "code",
   "execution_count": null,
   "id": "d3f1d300-a0b4-4245-be93-6d8b6a174db9",
   "metadata": {},
   "outputs": [],
   "source": [
    "# find \"radiation-free\" transonic gliding velocities; note these are specific to \"perfect\" dislocations\n",
    "Cu.find_vRF() # (no radiation free velocities for this metal)"
   ]
  },
  {
   "cell_type": "code",
   "execution_count": null,
   "id": "440272bf-0389-4769-b593-f69e7f39c2cb",
   "metadata": {},
   "outputs": [],
   "source": [
    "Cu.computesound([1,1,1]) # find the sound speeds for a given direction of propagation in the crystal"
   ]
  },
  {
   "cell_type": "code",
   "execution_count": null,
   "id": "d744c905-3276-4d3e-8295-fa4db26b5c37",
   "metadata": {},
   "outputs": [],
   "source": [
    "# find the lowest (which='l'=default) and highest (which='h') sound speed, as well as the highest (quasi-)shear wave speed (which='hs'),\n",
    "# in the crystal.\n",
    "Cu.find_wavespeed(accuracy=0.01),Cu.find_wavespeed(which='hs',accuracy=0.01,maxfun=1200), Cu.find_wavespeed(which='h',accuracy=0.01)"
   ]
  },
  {
   "cell_type": "code",
   "execution_count": null,
   "id": "1668a3c3-b986-4a81-83af-5e52873836dc",
   "metadata": {},
   "outputs": [],
   "source": [
    "import numpy as np\n",
    "## for line tension calcs, need to initialize with many character angles:\n",
    "Cu_mixed = pydislocdyn.readinputfile(\"Cu.in\",Ntheta=250,include_extra=True)\n",
    "print(len(Cu_mixed.theta),Cu_mixed.theta[[0,1,-2,-1]]/np.pi) ## kw include_extra adds two character angles at the edges"
   ]
  },
  {
   "cell_type": "code",
   "execution_count": null,
   "id": "8f5ef013-dd8c-4824-a2e1-d03ee2f60617",
   "metadata": {},
   "outputs": [],
   "source": [
    "Cu_mixed.computeuij(0.6) # v=0.6*ct\n",
    "Cu_mixed.computeEtot()\n",
    "Cu_mixed.computeLT()\n",
    "Cu_mixed.LT[0],Cu_mixed.LT[-1],len(Cu_mixed.LT) ## linetension needs two derivatives wrt theta, these are the screw/edge results:"
   ]
  },
  {
   "cell_type": "code",
   "execution_count": null,
   "id": "df978abf-6f04-4212-abf3-3038fcb2b911",
   "metadata": {},
   "outputs": [],
   "source": [
    "# some of the computations above also work for symbolic expressions, for example:\n",
    "# find Voigt and Reuss averages for general crystal at the example of hcp:\n",
    "import sympy as sp\n",
    "hcpcryst = pydislocdyn.metal_props(sym='hcp')\n",
    "# hcpcryst.c11,hcpcryst.c12,hcpcryst.c13,hcpcryst.c33,hcpcryst.c44=sp.symbols('c11,c12,c13,c33,c44',real=True)\n",
    "# hcpcryst.init_C2()\n",
    "## define symbols for elastic constants manually (above) or use pre-configured set (below)\n",
    "hcpcryst.init_symbols()\n",
    "hcpcryst.C2"
   ]
  },
  {
   "cell_type": "code",
   "execution_count": null,
   "id": "829e1f14-fa5f-4663-8ab3-8416703fa032",
   "metadata": {},
   "outputs": [],
   "source": [
    "hcpcryst.voigt = hcpcryst.compute_Lame(scheme='voigt')\n",
    "hcpcryst.voigt"
   ]
  },
  {
   "cell_type": "code",
   "execution_count": null,
   "id": "53df45e5-8025-49aa-b07f-b47d33c43942",
   "metadata": {},
   "outputs": [],
   "source": [
    "# hcpcryst.rho = sp.symbols('ρ',positive=True) # already set by .init_symbols() method above\n",
    "hcpcryst.init_sound()\n",
    "sp.simplify(hcpcryst.ct/hcpcryst.cl)"
   ]
  },
  {
   "cell_type": "code",
   "execution_count": null,
   "id": "cbea0304-50bd-42fb-b4d9-13f074e4d506",
   "metadata": {},
   "outputs": [],
   "source": [
    "import pandas as pd\n",
    "pd.set_option('display.max_colwidth', 70) ## show at least the bulk modulus without truncating \n",
    "hcpcryst.reuss = hcpcryst.compute_Lame(scheme='reuss')\n",
    "hcpcryst.reuss"
   ]
  },
  {
   "cell_type": "code",
   "execution_count": null,
   "id": "d7e20835-9734-43b9-8f81-3fef3da2104f",
   "metadata": {},
   "outputs": [],
   "source": [
    "sp.Matrix(hcpcryst.computesound([1,1,0]))"
   ]
  },
  {
   "cell_type": "code",
   "execution_count": null,
   "id": "a8142d21-c164-4a66-a8c8-a4cd628a13ac",
   "metadata": {},
   "outputs": [],
   "source": [
    "sp.simplify(hcpcryst.anisotropy_index())"
   ]
  },
  {
   "cell_type": "code",
   "execution_count": null,
   "id": "c0ec1f3e-3bef-4362-b6a5-89c99286c413",
   "metadata": {},
   "outputs": [],
   "source": [
    "## limiting velocities of dislocations are implemented for symbolic computation only for simple cases, e.g.:\n",
    "Cu.init_symbols()\n",
    "vcrit_fcc = Cu.computevcrit()"
   ]
  },
  {
   "cell_type": "code",
   "execution_count": null,
   "id": "706e5222-9af0-4394-8777-8dd78d76a50c",
   "metadata": {},
   "outputs": [],
   "source": [
    "vcrit_fcc['screw'] ## caveat: numerical prefactor sqrt(3/2) was converted to float"
   ]
  },
  {
   "cell_type": "code",
   "execution_count": null,
   "id": "0516aca3-d4a2-4983-bc2a-6665bab5f093",
   "metadata": {},
   "outputs": [],
   "source": [
    "vcrit_fcc['edge'] ## the 3 branches are not ordered since we can't know which one is smallest"
   ]
  },
  {
   "cell_type": "code",
   "execution_count": null,
   "id": "dd323c8d-27b3-4ae3-8d2d-bd91cbb6960f",
   "metadata": {},
   "outputs": [],
   "source": [
    "poly=pydislocdyn.strain_poly()\n",
    "poly"
   ]
  },
  {
   "cell_type": "code",
   "execution_count": null,
   "id": "432eebbb-c4c4-427d-a452-44a33a888f53",
   "metadata": {},
   "outputs": [],
   "source": [
    "poly.generate_poly([poly.y,0,0,0,0,0],preserve_volume=False,P=0)"
   ]
  },
  {
   "cell_type": "code",
   "execution_count": null,
   "id": "c0b44e3f-5078-4d23-8479-302d9f475e59",
   "metadata": {},
   "outputs": [],
   "source": [
    "poly.alpha, pydislocdyn.Voigt(poly.strain)"
   ]
  },
  {
   "cell_type": "code",
   "execution_count": null,
   "id": "569fefc5-1382-4fc0-aec7-10aca4f966ab",
   "metadata": {},
   "outputs": [],
   "source": []
  }
 ],
 "metadata": {
  "kernelspec": {
   "display_name": "Python [conda env:base] *",
   "language": "python",
   "name": "conda-base-py"
  },
  "language_info": {
   "codemirror_mode": {
    "name": "ipython",
    "version": 3
   },
   "file_extension": ".py",
   "mimetype": "text/x-python",
   "name": "python",
   "nbconvert_exporter": "python",
   "pygments_lexer": "ipython3",
   "version": "3.12.11"
  }
 },
 "nbformat": 4,
 "nbformat_minor": 5
}
